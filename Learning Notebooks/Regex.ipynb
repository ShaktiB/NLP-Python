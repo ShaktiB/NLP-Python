{
 "cells": [
  {
   "cell_type": "markdown",
   "metadata": {},
   "source": [
    "## Regular Expressions \n",
    "- Text string for describing search pattern\n",
    "- 'nlp' -> searches for nlp pattern\n",
    "- '[j-q]' -> searches for characters between j & q, returns individual characters\n",
    "- '[j-q]+' -> searches for characters between j & q, but also searches for strings longer than 1 character\n",
    "- '[0-9]+' -> searches for numbers between 0 and 9, but also searches for numbers longer than 1 digit \n",
    "- '[j-q0-9]+' -> searches for sequencies for letters between j & q or 0 & 9"
   ]
  },
  {
   "cell_type": "markdown",
   "metadata": {},
   "source": [
    "### Why is RegEx useful?\n",
    "- Identify whitespace between wrods/tokens\n",
    "- Identifying/creating delimiters or end-of-line escape characters \n",
    "- Removing punctuation or numbers from text \n",
    "- Clean HTML tags from text\n",
    "- Identify patterns\n",
    "\n",
    "### Use-cases\n",
    "- Confirm passwords meet criteria \n",
    "- Search URL for some substring\n",
    "- Searching for files on your computer\n",
    "- Document scraping \n",
    "\n",
    "### Exercise Takeaways\n",
    "- Useful methods for tokenizing \n",
    "-- findall(): search for the words and ignore the stuff that separates the words\n",
    "-- split(): search for the characters that split the words by ignoring the actual words themselves\n",
    "\n",
    "- Useful Regexes for tokenizing \n",
    "-- '\\W' & '\\w' for words \n",
    "-- '\\S' & '\\s' for whitespaces"
   ]
  },
  {
   "cell_type": "code",
   "execution_count": 1,
   "metadata": {},
   "outputs": [],
   "source": [
    "import re"
   ]
  },
  {
   "cell_type": "code",
   "execution_count": 2,
   "metadata": {},
   "outputs": [],
   "source": [
    "test1 = 'This is a made up string to test 2 different regex methods'\n",
    "test2 = 'This     is a made    up string    to test 2  different regex methods'\n",
    "test3 = 'This-is-a-made/up.string*to>>>test----2\"\"\"different-regex-methods'"
   ]
  },
  {
   "cell_type": "markdown",
   "metadata": {},
   "source": [
    "### Split stentence into a list of words"
   ]
  },
  {
   "cell_type": "code",
   "execution_count": 9,
   "metadata": {},
   "outputs": [
    {
     "name": "stdout",
     "output_type": "stream",
     "text": [
      "['This', 'is', 'a', 'made', 'up', 'string', 'to', 'test', '2', 'different', 'regex', 'methods']\n",
      "['This', '', '', '', '', 'is', 'a', 'made', '', '', '', 'up', 'string', '', '', '', 'to', 'test', '2', '', 'different', 'regex', 'methods']\n",
      "['This-is-a-made/up.string*to>>>test----2\"\"\"different-regex-methods']\n"
     ]
    }
   ],
   "source": [
    "print(re.split('\\s', test1))\n",
    "print(re.split('\\s', test2))\n",
    "print(re.split('\\s', test3))"
   ]
  },
  {
   "cell_type": "code",
   "execution_count": 24,
   "metadata": {},
   "outputs": [
    {
     "name": "stdout",
     "output_type": "stream",
     "text": [
      "['This', 'is', 'a', 'made', 'up', 'string', 'to', 'test', '2', 'different', 'regex', 'methods']\n",
      "['This', 'is', 'a', 'made', 'up', 'string', 'to', 'test', '2', 'different', 'regex', 'methods']\n"
     ]
    }
   ],
   "source": [
    "print(re.split('\\s+',test2))\n",
    "print(re.split('\\W+', test2))"
   ]
  },
  {
   "cell_type": "code",
   "execution_count": 23,
   "metadata": {},
   "outputs": [
    {
     "name": "stdout",
     "output_type": "stream",
     "text": [
      "['This', 'is', 'a', 'made', 'up', 'string', 'to', 'test', '2', 'different', 'regex', 'methods']\n",
      "['This', 'is', 'a', 'made', 'up', 'string', 'to', 'test', '2', 'different', 'regex', 'methods']\n"
     ]
    }
   ],
   "source": [
    "print(re.split('[-/>\".*]+',test3))\n",
    "print(re.split('\\W+', test3))"
   ]
  },
  {
   "cell_type": "code",
   "execution_count": 32,
   "metadata": {},
   "outputs": [
    {
     "name": "stdout",
     "output_type": "stream",
     "text": [
      "['This', 'is', 'a', 'made', 'up', 'string', 'to', 'test', '2', 'different', 'regex', 'methods']\n",
      "['This', 'is', 'a', 'made', 'up', 'string', 'to', 'test', '2', 'different', 'regex', 'methods']\n",
      "['This', 'is', 'a', 'made', 'up', 'string', 'to', 'test', '2', 'different', 'regex', 'methods']\n"
     ]
    }
   ],
   "source": [
    "# Find all\n",
    "print(re.findall('\\S+', test1))\n",
    "print(re.findall('\\S+', test2))\n",
    "print(re.findall('\\w+', test3))"
   ]
  },
  {
   "cell_type": "markdown",
   "metadata": {},
   "source": [
    "### Replacing a specific string"
   ]
  },
  {
   "cell_type": "code",
   "execution_count": 40,
   "metadata": {},
   "outputs": [],
   "source": [
    "pep8 = 'I try to follow PEP8 guidelines'\n",
    "pep7 = 'I try to follow PEP7 guidelines'\n",
    "peep8 = 'I try to follow PEEP8 guidelines'"
   ]
  },
  {
   "cell_type": "code",
   "execution_count": 43,
   "metadata": {},
   "outputs": [
    {
     "name": "stdout",
     "output_type": "stream",
     "text": [
      "['I', 'try', 'to', 'follow', 'PEP', 'guidelines']\n",
      "['I', 'PEP']\n",
      "['PEP8']\n"
     ]
    }
   ],
   "source": [
    "print(re.findall('[a-zA-Z]+',pep8))\n",
    "print(re.findall('[A-Z]+',pep8))\n",
    "print(re.findall('[A-Z]+[0-9]',pep8))"
   ]
  },
  {
   "cell_type": "code",
   "execution_count": 47,
   "metadata": {},
   "outputs": [
    {
     "name": "stdout",
     "output_type": "stream",
     "text": [
      "['PEEP8']\n",
      "['PEP7']\n"
     ]
    }
   ],
   "source": [
    "print(re.findall('[A-Z]+[0-9]+',peep8))\n",
    "print(re.findall('[A-Z]+[0-9]+',pep7))"
   ]
  },
  {
   "cell_type": "code",
   "execution_count": 48,
   "metadata": {},
   "outputs": [
    {
     "data": {
      "text/plain": [
       "'I try to follow PEP8 Python Styleguide guidelines'"
      ]
     },
     "execution_count": 48,
     "metadata": {},
     "output_type": "execute_result"
    }
   ],
   "source": [
    "re.sub('[A-Z]+[0-9]+', 'PEP8 Python Styleguide', pep8)"
   ]
  },
  {
   "cell_type": "code",
   "execution_count": 50,
   "metadata": {},
   "outputs": [
    {
     "data": {
      "text/plain": [
       "'I try to follow PEP8 Python Styleguide guidelines'"
      ]
     },
     "execution_count": 50,
     "metadata": {},
     "output_type": "execute_result"
    }
   ],
   "source": [
    "re.sub('[A-Z]+[0-9]+', 'PEP8 Python Styleguide', pep7)\n",
    "re.sub('[A-Z]+[0-9]+', 'PEP8 Python Styleguide', peep8)"
   ]
  },
  {
   "cell_type": "markdown",
   "metadata": {},
   "source": [
    "### Other Examples \n",
    "- re.search()\n",
    "- re.match()\n",
    "- re.fullmatch()\n",
    "- re.finditer()\n",
    "- re.escape()\n",
    "\n",
    "### Searching Methods\n",
    "#### Identifiers\n",
    "- \\d : any numbers \n",
    "- \\D : anything but a number\n",
    "= \\s : a space\n",
    "- \\S : anything but a space\n",
    "- \\w any character\n",
    "- \\W anything but a character\n",
    "- . anything except for a newline\n",
    "- \\. look for periods/digits\n",
    "- \\b the whitespace around words \n",
    "\n",
    "#### Modifiers\n",
    "- {1,3} : We're expecting 1-3\n",
    "- '+' Match 1 or more \n",
    "- '*' Match 0 or more\n",
    "- ? Match 0 or 1 \n",
    "- $ match the end of a string\n",
    "- ^ matching the beginning of a string\n",
    "- | either or \n",
    "- [] range \n",
    "- {x} expecting x amount\n",
    "\n",
    "#### White Space Characters \n",
    "- \\n new line \n",
    "- \\s space\n",
    "- \\t tab\n",
    "- \\e escape\n",
    "- \\f form feed\n",
    "- \\r return\n"
   ]
  },
  {
   "cell_type": "code",
   "execution_count": 56,
   "metadata": {},
   "outputs": [],
   "source": [
    "test_str = 'Hello world'"
   ]
  },
  {
   "cell_type": "code",
   "execution_count": 65,
   "metadata": {},
   "outputs": [
    {
     "data": {
      "text/plain": [
       "['l', 'l', 'l']"
      ]
     },
     "execution_count": 65,
     "metadata": {},
     "output_type": "execute_result"
    }
   ],
   "source": [
    "re.findall('l',test_str)"
   ]
  },
  {
   "cell_type": "code",
   "execution_count": 69,
   "metadata": {},
   "outputs": [
    {
     "name": "stdout",
     "output_type": "stream",
     "text": [
      "1.Hello\n",
      "2.World\n"
     ]
    }
   ],
   "source": [
    "test_str2 = '1.Hello\\n2.World'\n",
    "print(test_str2)"
   ]
  },
  {
   "cell_type": "code",
   "execution_count": 88,
   "metadata": {},
   "outputs": [
    {
     "name": "stdout",
     "output_type": "stream",
     "text": [
      "['1', 'Hello', '2', 'World']\n",
      "['', '.', '\\n', '.', '']\n"
     ]
    }
   ],
   "source": [
    "print(re.findall('\\w+',test_str2))\n",
    "print(re.split('\\w+', test_str2))"
   ]
  },
  {
   "cell_type": "code",
   "execution_count": 89,
   "metadata": {},
   "outputs": [],
   "source": [
    "ex_str = '''\n",
    "Jessica is 15 years old, and Daniel is 27 years old. \n",
    "Edward is 97, and his grandfather, Oscar, is 102.\n",
    "'''"
   ]
  },
  {
   "cell_type": "code",
   "execution_count": 100,
   "metadata": {},
   "outputs": [
    {
     "name": "stdout",
     "output_type": "stream",
     "text": [
      "['15', '27', '97', '102']\n",
      "['Jessica', 'Daniel', 'Edward', 'Oscar']\n"
     ]
    }
   ],
   "source": [
    "ages = re.findall('\\d{1,3}', ex_str)\n",
    "names = re.findall('[A-Z][a-z]+', ex_str)\n",
    "print(ages)\n",
    "print(names)"
   ]
  },
  {
   "cell_type": "code",
   "execution_count": 101,
   "metadata": {},
   "outputs": [
    {
     "name": "stdout",
     "output_type": "stream",
     "text": [
      "{'Jessica': '15', 'Daniel': '27', 'Edward': '97', 'Oscar': '102'}\n"
     ]
    }
   ],
   "source": [
    "ageDict = dict(zip(names,ages))\n",
    "print(ageDict)"
   ]
  },
  {
   "cell_type": "code",
   "execution_count": null,
   "metadata": {},
   "outputs": [],
   "source": []
  }
 ],
 "metadata": {
  "kernelspec": {
   "display_name": "personal",
   "language": "python",
   "name": "personal"
  },
  "language_info": {
   "codemirror_mode": {
    "name": "ipython",
    "version": 3
   },
   "file_extension": ".py",
   "mimetype": "text/x-python",
   "name": "python",
   "nbconvert_exporter": "python",
   "pygments_lexer": "ipython3",
   "version": "3.6.10"
  }
 },
 "nbformat": 4,
 "nbformat_minor": 4
}
